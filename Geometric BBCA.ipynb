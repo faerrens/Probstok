import pandas as pd
import numpy as np
import matplotlib.pyplot as plt
import seaborn as sns Drive already mounted at /content/gdrive; to attempt to forcibly remount, call drive.mount("/content/gdrive", force_remount=True

#Masukan File CSV yang sudah diupload di GDrive anda
#Jangan lupa untuk klik link untuk autentifikasi dan copy kode digdrive
from google.colab import drive
drive.mount('/content/gdrive')

start_date = '2014-11-24'
end_date = '2019-11-21'
pred_end_date = '2020-02-1'

BBCA = pd.read_csv('gdrive/My Drive/DataBCA_5tahuny.csv')
print(BBCA)

BBCA['Date'] = pd.to_datetime(BBCA['Date'])
print(BBCA)

print(BBCA.head())
print(BBCA.tail())

returns = (BBCA.loc[1:, 'Adj Close'] - \
 BBCA.shift(1).loc[1:, 'Adj Close']) / \
 BBCA.shift(1).loc[1:, 'Adj Close']
print(returns.tolist())

#Parameter Assignment

So = BBCA.loc[BBCA.shape[0] - 1, "Adj Close"]
print(So)

dt = 1 # day # User input
n_of_wkdays = pd.date_range(start = pd.to_datetime(end_date,
 format = "%Y-%m-%d") + pd.Timedelta('1 days'),
 end = pd.to_datetime(pred_end_date,
 format = "%Y-%m-%d")).to_series().map(lambda x:
 1 if x.isoweekday() in range(1,6) else 0).sum()
T = n_of_wkdays # days # User input -> follows from pred_end_date
N = T / dt
t = np.arange(1, int(N) + 1)
mu = np.mean(returns)
sigma = np.std(returns)
scen_size = 50 # User input
b = {str(scen): np.random.normal(0, 1, int(N)) for scen in range(1, scen_size + 1)}
W = {str(scen): b[str(scen)].cumsum() for scen in range(1, scen_size + 1)}

# Calculating drift and diffusion components drift = (mu - 0.5 * sigma**2) * t
print(drift)

diffusion = {str(scen): sigma * W[str(scen)] for scen in range(1, scen_size + 1)}
print(diffusion)

# Making the predictions S = np.array([So * np.exp(drift + diffusion[str(scen)]) for scen in range(1, scen_size + 1)])
S = np.hstack((np.array([[So] for scen in range(scen_size)]), S)) # add So to the beginning series
print(S)


# Plotting the simulations plt.figure(figsize = (20,10))
for i in range(scen_size):
 plt.title("Daily Volatility: " + str(sigma))
 plt.plot(pd.date_range(start = BBCA["Date"].max(),
 end = pred_end_date, freq = 'D').map(lambda x:
 x if x.isoweekday() in range(1, 6) else np.nan).dropna(), S[i, :])
 plt.ylabel('Stock Prices, RP')
 plt.xlabel('Prediction Days')
plt.show()
